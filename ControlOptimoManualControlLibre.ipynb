{
 "cells": [
  {
   "cell_type": "code",
   "execution_count": 3,
   "id": "d8a260a1-4b16-4492-a537-3a77a7547bee",
   "metadata": {
    "tags": []
   },
   "outputs": [],
   "source": [
    "import numpy as np\n",
    "from scipy.integrate import odeint\n",
    "import matplotlib.pyplot as plt"
   ]
  },
  {
   "cell_type": "code",
   "execution_count": null,
   "id": "051a93b5-657c-426e-8cf7-374a9b666b7e",
   "metadata": {},
   "outputs": [],
   "source": [
    "#Version manual del codigo donde el control no esta limitado\n",
    "\n",
    "#Se crea la función\n",
    "#D carga con los parametros constantes, P con las variables, t significa tiempo\n",
    "def SolvedSystem(D,P,t):\n",
    "    \n",
    "    #Le doy sus valores a los parametros; son 17,en orden:\n",
    "    # 1/ Recrutamiento de personas, 2/ Ratio de perdida de inmunidad natural de humanos, 3/ Tasa de muerte natural de humanos,\n",
    "    # 4/ Probabilidad de trasmisión mosquito-a-humano, 5/ Eficacia de la droga, 6/ Ratio de adquisición de resistencia,\n",
    "    # 7/ Ratio de recuperación espontanea, 8/Muerte por infección. 9/ Recrutamiento de mosquitos,\n",
    "    # 10/ Muerte natural de mosquitos, 11/ Probabilidad de infección humano-a-mosquito,12/ Eficacia de insecticida,\n",
    "    # 13/ Resistencia a los insecticidas, 14/ Tasa de mordeduras per capita, 15/ Costo por Infectados,\n",
    "    # 16/ Costo de drogas, 17/ Costo de insecticidas\n",
    "    Lambda_h, omega, mu_h, beta_h, xi1, q1, delta, rho, Lambda_v, mu_v, beta_v, xi2, q2,epsilon,C,d1,d2 = D\n",
    "    \n",
    "    #Aclaro los nombres de las variables\n",
    "    Sh, Ih, Rh, Sv, Iv,lambda_1,lambda_2,lambda_3,lambda_4,lambda_5,theta_1,theta_2 = P\n",
    "    Nh = Sh + Ih + Rh\n",
    "    Nv = Sv + Iv\n",
    "    \n",
    "    #Defino las ecuaciones de las variables originales\n",
    "    DSh_dt = Lambda_h + omega * Rh - beta_h * Iv / Nh * Sh - mu_h * Sh\n",
    "    DIh_dt = beta_h * Iv / Nh * Sh - (xi1 * (1 - q1) + u) * Ih - (delta + rho + mu_h) * Ih\n",
    "    DRh_dt = (xi1 * (1 - q1) + u) * Ih + delta * Ih - (omega + mu_h) * Rh\n",
    "    DSv_dt = Lambda_v - beta_v * Ih / Nh * Sv - (xi2 * (1 - q2) + u) * Sv - mu_v * Sv\n",
    "    DIv_dt = beta_v * Ih / Nh * Sv - (xi2 * (1 - q2) + u) * Iv - mu_v * Iv\n",
    "    #Las ecuaciones que gobiernan las variables de holgura\n",
    "     Dlambda_1_Dt = - ((Sh * beta_h * epsilon * Iv * (Ih - Rh)(lambda_2 - lambda_1)) / (Nh*Nh)) + lambda_1 * mu_h + (Sv * beta_v * epsilon * Ih(lambda_5 - lambda_4) / (Nh * Nh))\n",
    "    Dlambda_2_Dt = - C - xi1 * theta_1 * (1-q1) * (lambda_3 - lambda_2) + lambda_2 * mu_h - delta * (lambda_3 - lambda_2) + Sh*beta_h*epsilon*Iv/(Nh^2) - (Sv*beta_v*epsilon*(Sh+Rh)*(lambda_5-lambda_4)/(Nh^2))#sospecho que el último termino es realmente positivo o el penultmo negativo\n",
    "    Dlambda_3_Dt =  - omega*lambda_1 + mu_h*lambda_3 + (Sh*beta_h*epsilon*Iv*(lambda_2-lambda_1)/(Nh^2)) + (Sv*beta_v*epsilon*Ih*(lambda_5-lambda_4)/(Nh^2))\n",
    "    Dlambda_4_Dt = - (lambda_4*beta_v*epsilon*Ih/Nh) + lambda_4*xi2*theta_2*(1-q2) + lambda_4*mu_v\n",
    "    Dlambda_5_Dt = - C - (Sh*beta_h*epsilon(lambda_2-lambda_1)/Nh) + lambda_5*xi2*theta_2*(1-q2)+lambda_5 * mu_v\n",
    "    #Como deberia ser los controles según el principio de Pontryagin\n",
    "    Dtheta_1_Dt=xi1*(1-q1)*Ih*(lambda_2-lambda_3)/d1\n",
    "    Dtheta_2_Dt=xi2*(1-q2)*(lambda_4*Sv-lambda_5*Iv)/d2\n",
    "    \n",
    "    #La solución\n",
    "    S=[Dlambda_1_Dt,Dlambda_2_Dt,Dlambda_3_Dt,Dlambda_4_Dt,Dlambda_5_Dt,dSh_dt,dIh_dt,dRh_dt,dSv_dt,dIh_dt,Dtheta_1_Dt,Dtheta_2_Dt]\n",
    "    return S\n",
    "\n",
    "\n",
    "#En este punto creo los parametros iniciales \n",
    "#Los de los estados se basan en los usados en el paper para areas rurales\n",
    "Sh_0 = 100000\n",
    "Ih_0 = 30000\n",
    "Rh_0 = 20000\n",
    "Sv_0 = 50000\n",
    "Iv_0 = 10000\n",
    "#Ya que los controles no tienen condiciones limite finales las adjuntas inician en 0\n",
    "lambda_1_0 = 0\n",
    "lambda_2_0 = 0\n",
    "lambda_3_0 = 0\n",
    "lambda_4_0 = 0\n",
    "lambda_5_0 = 0\n",
    "#Por el contexto se asume que tasa de recuperación por la droga comienza perfecta\n",
    "theta_1_0 = 0\n",
    "theta_2_0 = 0\n",
    "\n"
   ]
  }
 ],
 "metadata": {
  "kernelspec": {
   "display_name": "Python 3 (ipykernel)",
   "language": "python",
   "name": "python3"
  },
  "language_info": {
   "codemirror_mode": {
    "name": "ipython",
    "version": 3
   },
   "file_extension": ".py",
   "mimetype": "text/x-python",
   "name": "python",
   "nbconvert_exporter": "python",
   "pygments_lexer": "ipython3",
   "version": "3.12.3"
  }
 },
 "nbformat": 4,
 "nbformat_minor": 5
}
