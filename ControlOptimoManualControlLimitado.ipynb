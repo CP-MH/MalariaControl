{
 "cells": [
  {
   "cell_type": "code",
   "execution_count": 1,
   "id": "5fc19748-cc53-4002-8e45-4defc59d62f1",
   "metadata": {
    "tags": []
   },
   "outputs": [],
   "source": [
    "import numpy as np\n",
    "from scipy.integrate import odeint\n",
    "import matplotlib.pyplot as plt"
   ]
  },
  {
   "cell_type": "code",
   "execution_count": 2,
   "id": "9fb9c547-4326-4699-9b51-8acaef91ea2e",
   "metadata": {
    "tags": []
   },
   "outputs": [],
   "source": [
    "#Version manual del codigo donde el control esta limitado de 0 a 1\n",
    "\n",
    "#Se crea la función\n",
    "#D carga con los parametros constantes, P con las variables, t significa tiempo\n",
    "def DPdt(P,t):\n",
    "    \n",
    "    #Le doy sus valores a los parametros; son 17,en orden:\n",
    "    D = (1, 0.1, 0.01, 0.4, 0.7,0.1, 0.05, 0.02, 0.5, 0.1, 0.3, 0.3, 0.05, 0.45, 0.001, 0.01, 0.01)\n",
    "    #Los ultimos o son arbitrarios o provienen de la investigación referenciada en el paper:Romero-Leiton J. and Ibargüen-Mondragón E., “Stability analysis and optimal control intervention strategies of a malaria mathematical model”, Appl. Sci., 21 (2019), 184–218.\n",
    "\n",
    "    \n",
    "    # 1/ Recrutamiento de personas, 2/ Ratio de perdida de inmunidad natural de humanos, 3/ Tasa de muerte natural de humanos,\n",
    "    # 4/ Probabilidad de trasmisión mosquito-a-humano, 5/ Eficacia de la droga, 6/ Ratio de adquisición de resistencia,\n",
    "    # 7/ Ratio de recuperación espontanea, 8/Muerte por infección. 9/ Recrutamiento de mosquitos,\n",
    "    # 10/ Muerte natural de mosquitos, 11/ Probabilidad de infección humano-a-mosquito,12/ Eficacia de insecticida,\n",
    "    # 13/ Resistencia a los insecticidas, 14/ Tasa de mordeduras per capita, 15/ Costo por Infectados,\n",
    "    # 16/ Costo de drogas, 17/ Costo de insecticidas\n",
    "    Lambda_h, omega, mu_h, beta_h, xi1, q1, delta, rho, Lambda_v, mu_v, beta_v, xi2, q2,epsilon,C,d1,d2 = D\n",
    "    \n",
    "    #Aclaro los nombres de las variables\n",
    "    Sh, Ih, Rh, Sv, Iv,lambda_1,lambda_2,lambda_3,lambda_4,lambda_5,theta_1,theta_2 = P\n",
    "    Nh = Sh + Ih + Rh\n",
    "    Nv = Sv + Iv\n",
    "    \n",
    "    #Defino las ecuaciones de las variables originales\n",
    "    DSh_dt = Lambda_h + omega * Rh - beta_h * epsilon * Iv / Nh * Sh - mu_h * Sh\n",
    "    DIh_dt = beta_h * epsilon * Iv / Nh * Sh - xi1 * theta_1 * (1 - q1) * Ih - (delta + rho + mu_h) * Ih\n",
    "    DRh_dt = xi1 * (1 - q1) * theta_1 * Ih + delta * Ih - (omega + mu_h) * Rh\n",
    "    DSv_dt = Lambda_v - beta_v * epsilon * Ih / Nh * Sv - xi2 * (1 - q2) * theta_2 * Sv - mu_v * Sv\n",
    "    DIv_dt = beta_v * epsilon * Ih / Nh * Sv - xi2 * (1 - q2) * theta_2 * Iv - mu_v * Iv\n",
    "    #Las ecuaciones que gobiernan las variables de holgura\n",
    "    Dlambda_1_Dt = - ((Sh * beta_h * epsilon * Iv * (Ih - Rh)*(lambda_2 - lambda_1)) / (Nh*Nh)) + lambda_1 * mu_h + (Sv * beta_v * epsilon * Ih*(lambda_5 - lambda_4) / (Nh * Nh))\n",
    "    Dlambda_2_Dt = - C - xi1 * theta_1 * (1-q1) * (lambda_3 - lambda_2) + lambda_2 * mu_h - delta * (lambda_3 - lambda_2) + Sh*beta_h*epsilon*Iv/(Nh**2) - (Sv*beta_v*epsilon*(Sh+Rh)*(lambda_5-lambda_4)/(Nh**2))#sospecho que el último termino es realmente positivo o el penultmo negativo\n",
    "    Dlambda_3_Dt =  - omega*lambda_1 + mu_h*lambda_3 + (Sh*beta_h*epsilon*Iv*(lambda_2-lambda_1)/(Nh**2)) + (Sv*beta_v*epsilon*Ih*(lambda_5-lambda_4)/(Nh**2))\n",
    "    Dlambda_4_Dt = - (lambda_4*beta_v*epsilon*Ih/Nh) + lambda_4*xi2*theta_2*(1-q2) + lambda_4*mu_v\n",
    "    Dlambda_5_Dt = - C - (Sh*beta_h*epsilon*(lambda_2-lambda_1)/Nh) + lambda_5*xi2*theta_2*(1-q2)+lambda_5 * mu_v\n",
    "    #Como deberia ser los controles según el principio de Pontryagin y los limites de 0 a 1\n",
    "    Dtheta_1_Dt = min ( max (xi1*(1-q1)*Ih*(lambda_2-lambda_3)/d1 , 0) , 1 )\n",
    "    Dtheta_2_Dt = min ( max (xi2*(1-q2)*(lambda_4*Sv-lambda_5*Iv)/d2 , 0) , 1 )\n",
    "    \n",
    "    #La solución\n",
    "    S=[DSh_dt,DIh_dt,DRh_dt,DSv_dt,DIv_dt,Dlambda_1_Dt,Dlambda_2_Dt,Dlambda_3_Dt,Dlambda_4_Dt,Dlambda_5_Dt, Dtheta_1_Dt,Dtheta_2_Dt]\n",
    "    return S\n",
    "\n",
    "\n",
    "#En este punto creo los parametros iniciales \n",
    "#Los de los estados se basan en los usados en el paper para areas rurales\n",
    "Sh_0 = 100000\n",
    "Ih_0 = 30000\n",
    "Rh_0 = 20000\n",
    "Sv_0 = 50000\n",
    "Iv_0 = 10000\n",
    "#Ya que los controles no tienen condiciones limite finales las adjuntas inician en 0\n",
    "lambda_1_0 = 0\n",
    "lambda_2_0 = 0\n",
    "lambda_3_0 = 0\n",
    "lambda_4_0 = 0\n",
    "lambda_5_0 = 0\n",
    "#Por el contexto se asume que tasa de recuperación por la droga comienza perfecta\n",
    "theta_1_0 = 1\n",
    "theta_2_0 = 1\n",
    "\n",
    "P0 = [Sh_0,Ih_0,Rh_0,Sv_0,Iv_0,lambda_1_0,lambda_2_0,lambda_3_0,lambda_4_0,lambda_5_0,theta_1_0,theta_2_0]\n"
   ]
  },
  {
   "cell_type": "code",
   "execution_count": 3,
   "id": "1d3f8fad-42c1-4fac-9074-f654166138cc",
   "metadata": {
    "tags": []
   },
   "outputs": [],
   "source": [
    "#Determino los valores que va a seguir y hasa donde, en este caso se hara hasta 100\n",
    "Timestamp = np.linspace(0,10)\n",
    "\n",
    "Sol = odeint(DPdt, P0, Timestamp, full_output = True)"
   ]
  },
  {
   "cell_type": "code",
   "execution_count": 4,
   "id": "47cbbc6f-bcf7-4443-8f0b-160823610eb2",
   "metadata": {
    "tags": []
   },
   "outputs": [],
   "source": [
    "Y1=Sol[0]\n",
    "\n",
    "\n"
   ]
  },
  {
   "cell_type": "code",
   "execution_count": 5,
   "id": "feed2804-fd62-42e3-b40d-799621644726",
   "metadata": {
    "tags": []
   },
   "outputs": [
    {
     "data": {
      "text/plain": [
       "[<matplotlib.lines.Line2D at 0x1ed67b8d0a0>,\n",
       " <matplotlib.lines.Line2D at 0x1ed67b8d0d0>,\n",
       " <matplotlib.lines.Line2D at 0x1ed67b8d1c0>,\n",
       " <matplotlib.lines.Line2D at 0x1ed67b8d2b0>,\n",
       " <matplotlib.lines.Line2D at 0x1ed67b8d3a0>,\n",
       " <matplotlib.lines.Line2D at 0x1ed67b8d490>,\n",
       " <matplotlib.lines.Line2D at 0x1ed67b8d580>,\n",
       " <matplotlib.lines.Line2D at 0x1ed67b8d670>,\n",
       " <matplotlib.lines.Line2D at 0x1ed67b8d730>,\n",
       " <matplotlib.lines.Line2D at 0x1ed67b8d820>,\n",
       " <matplotlib.lines.Line2D at 0x1ed67b8d910>,\n",
       " <matplotlib.lines.Line2D at 0x1ed67b8da00>]"
      ]
     },
     "execution_count": 5,
     "metadata": {},
     "output_type": "execute_result"
    },
    {
     "data": {
      "image/png": "[encoded data removed]",
      "text/plain": [
       "<Figure size 640x480 with 1 Axes>"
      ]
     },
     "metadata": {},
     "output_type": "display_data"
    }
   ],
   "source": [
    "plt.plot(Timestamp,Y1)\n"
   ]
  },
  {
   "cell_type": "code",
   "execution_count": null,
   "id": "b7a9d34d-a5bc-4820-8717-a1dfcb08943d",
   "metadata": {},
   "outputs": [],
   "source": []
  }
 ],
 "metadata": {
  "kernelspec": {
   "display_name": "Python 3 (ipykernel)",
   "language": "python",
   "name": "python3"
  },
  "language_info": {
   "codemirror_mode": {
    "name": "ipython",
    "version": 3
   },
   "file_extension": ".py",
   "mimetype": "text/x-python",
   "name": "python",
   "nbconvert_exporter": "python",
   "pygments_lexer": "ipython3",
   "version": "3.12.3"
  }
 },
 "nbformat": 4,
 "nbformat_minor": 5
}
