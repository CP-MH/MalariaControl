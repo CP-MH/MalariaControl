{
 "cells": [
  {
   "cell_type": "code",
   "execution_count": 31,
   "id": "d573d895-3d8b-4f6d-becc-75d43c0b5b11",
   "metadata": {},
   "outputs": [],
   "source": [
    "import numpy as np\n",
    "from scipy.integrate import odeint\n",
    "import matplotlib.pyplot as plt\n",
    "\n",
    "#Version manual del codigo donde el control esta limitado de 0 a 1\n",
    "\n",
    "#Se crea la función\n",
    "#D carga con los parametros constantes, P con las variables, t significa tiempo\n",
    "def DPdt(P,t):\n",
    "    \n",
    "    #Le doy sus valores a los parametros; son 17,en orden:\n",
    "    D = (1, 0.1, 0.01, 0.4, 0.7,0.1, 0.05, 0.02, 0.5, 0.1, 0.3, 0.3, 0.05, 0.45, 0.001, 0.01, 0.01)\n",
    "    #Los ultimos o son arbitrarios o provienen de la investigación referenciada en el paper:Romero-Leiton J. and Ibargüen-Mondragón E., “Stability analysis and optimal control intervention strategies of a malaria mathematical model”, Appl. Sci., 21 (2019), 184–218.\n",
    "\n",
    "    \n",
    "    # 1/ Recrutamiento de personas, 2/ Ratio de perdida de inmunidad natural de humanos, 3/ Tasa de muerte natural de humanos,\n",
    "    # 4/ Probabilidad de trasmisión mosquito-a-humano, 5/ Eficacia de la droga, 6/ Ratio de adquisición de resistencia,\n",
    "    # 7/ Ratio de recuperación espontanea, 8/Muerte por infección. 9/ Recrutamiento de mosquitos,\n",
    "    # 10/ Muerte natural de mosquitos, 11/ Probabilidad de infección humano-a-mosquito,12/ Eficacia de insecticida,\n",
    "    # 13/ Resistencia a los insecticidas, 14/ Tasa de mordeduras per capita, 15/ Costo por Infectados,\n",
    "    # 16/ Costo de drogas, 17/ Costo de insecticidas\n",
    "    Lambda_h, omega, mu_h, beta_h, xi1, q1, delta, rho, Lambda_v, mu_v, beta_v, xi2, q2,epsilon,C,d1,d2 = D\n",
    "    \n",
    "    #Aclaro los nombres de las variables\n",
    "    Sh, Ih, Rh, Sv, Iv,lambda_1,lambda_2,lambda_3,lambda_4,lambda_5 = P\n",
    "    Nh = Sh + Ih + Rh\n",
    "    Nv = Sv + Iv\n",
    "    \n",
    "    #Defino las ecuaciones de las variables originales\n",
    "    DSh_dt = Lambda_h + omega * Rh - beta_h * epsilon * Iv / Nh * Sh - mu_h * Sh\n",
    "    DIh_dt = beta_h * epsilon * Iv / Nh * Sh - xi1 * (min ( max (xi1*(1-q1)*Ih*(lambda_2-lambda_3)/d1 , 0) , 1 )) * (1 - q1) * Ih - (delta + rho + mu_h) * Ih\n",
    "    #DIh_dt = beta_h * epsilon * Iv / Nh * Sh - xi1 * theta_1 * (1 - q1) * Ih - (delta + rho + mu_h) * Ih\n",
    "    DRh_dt = xi1 * (1 - q1) * (min ( max (xi1*(1-q1)*Ih*(lambda_2-lambda_3)/d1 , 0) , 1 )) * Ih + delta * Ih - (omega + mu_h) * Rh\n",
    "    #DRh_dt = xi1 * (1 - q1) * theta_1 * Ih + delta * Ih - (omega + mu_h) * Rh\n",
    "    DSv_dt = Lambda_v - beta_v * epsilon * Ih / Nh * Sv - xi2 * (1 - q2) * (min ( max (xi2*(1-q2)*(lambda_4*Sv-lambda_5*Iv)/d2 , 0) , 1 )) * Sv - mu_v * Sv\n",
    "    #DSv_dt = Lambda_v - beta_v * epsilon * Ih / Nh * Sv - xi2 * (1 - q2) * theta_2 * Sv - mu_v * Sv\n",
    "    DIv_dt = beta_v * epsilon * Ih / Nh * Sv - xi2 * (1 - q2) * (min ( max (xi2*(1-q2)*(lambda_4*Sv-lambda_5*Iv)/d2 , 0) , 1 )) * Iv - mu_v * Iv\n",
    "    #DIv_dt = beta_v * epsilon * Ih / Nh * Sv - xi2 * (1 - q2) * theta_2 * Iv - mu_v * Iv\n",
    "    #Las ecuaciones que gobiernan las variables de holgura\n",
    "    Dlambda_1_Dt = - ((Sh * beta_h * epsilon * Iv * (Ih - Rh)*(lambda_2 - lambda_1)) / (Nh*Nh)) + lambda_1 * mu_h + (Sv * beta_v * epsilon * Ih*(lambda_5 - lambda_4) / (Nh * Nh))\n",
    "    Dlambda_2_Dt = - C - xi1 * (min ( max (xi1*(1-q1)*Ih*(lambda_2-lambda_3)/d1 , 0) , 1 )) * (1-q1) * (lambda_3 - lambda_2) + lambda_2 * mu_h - delta * (lambda_3 - lambda_2) + Sh*beta_h*epsilon*Iv/(Nh**2) - (Sv*beta_v*epsilon*(Sh+Rh)*(lambda_5-lambda_4)/(Nh**2))\n",
    "    #Dlambda_2_Dt = - C - xi1 * theta_1 * (1-q1) * (lambda_3 - lambda_2) + lambda_2 * mu_h - delta * (lambda_3 - lambda_2) + Sh*beta_h*epsilon*Iv/(Nh**2) - (Sv*beta_v*epsilon*(Sh+Rh)*(lambda_5-lambda_4)/(Nh**2))\n",
    "    #sospecho que el último termino es realmente positivo o el penultmo negativo\n",
    "    Dlambda_3_Dt =  - omega*lambda_1 + mu_h*lambda_3 + (Sh*beta_h*epsilon*Iv*(lambda_2-lambda_1)/(Nh**2)) + (Sv*beta_v*epsilon*Ih*(lambda_5-lambda_4)/(Nh**2))\n",
    "    \n",
    "    Dlambda_4_Dt = - (lambda_4*beta_v*epsilon*Ih/Nh) + lambda_4*xi2*(min ( max (xi2*(1-q2)*(lambda_4*Sv-lambda_5*Iv)/d2 , 0) , 1 ))*(1-q2) + lambda_4*mu_v\n",
    "    #Dlambda_4_Dt = - (lambda_4*beta_v*epsilon*Ih/Nh) + lambda_4*xi2*theta_2*(1-q2) + lambda_4*mu_v\n",
    "    Dlambda_5_Dt = - C - (Sh*beta_h*epsilon*(lambda_2-lambda_1)/Nh) + lambda_5*xi2*(min ( max (xi2*(1-q2)*(lambda_4*Sv-lambda_5*Iv)/d2 , 0) , 1 ))*(1-q2)+lambda_5 * mu_v\n",
    "    #Dlambda_5_Dt = - C - (Sh*beta_h*epsilon*(lambda_2-lambda_1)/Nh) + lambda_5*xi2*theta_2*(1-q2)+lambda_5 * mu_v\n",
    "    #Como deberia ser los controles según el principio de Pontryagin y los limites de 0 a 1\n",
    "    #Dtheta_1_Dt = 0\n",
    "    #Dtheta_2_Dt = 0\n",
    "    #Dtheta_1_Dt = min ( max (xi1*(1-q1)*Ih*(lambda_2-lambda_3)/d1 , 0) , 1 )\n",
    "    #Dtheta_2_Dt = min ( max (xi2*(1-q2)*(lambda_4*Sv-lambda_5*Iv)/d2 , 0) , 1 )\n",
    "    \n",
    "    S = [max(0, DSh_dt), max(0, DIh_dt), max(0, DRh_dt), max(0, DSv_dt), max(0, DIv_dt),\n",
    "         max(0, Dlambda_1_Dt), max(0, Dlambda_2_Dt), max(0, Dlambda_3_Dt), max(0, Dlambda_4_Dt), max(0, Dlambda_5_Dt),]  # Theta_1 and theta_2 are non-negative by definition\n",
    "    \n",
    "    #La solución\n",
    "    \n",
    "    return S\n",
    "\n",
    "\n",
    "#En este punto creo los parametros iniciales \n",
    "#Los de los estados se basan en los usados en el paper para areas rurales\n",
    "Sh_0 = 100000\n",
    "Ih_0 = 30000\n",
    "Rh_0 = 20000\n",
    "Sv_0 = 50000\n",
    "Iv_0 = 10000\n",
    "#Ya que los controles no tienen condiciones limite finales las adjuntas inician en 0\n",
    "lambda_1_0 = 0\n",
    "lambda_2_0 = 0\n",
    "lambda_3_0 = 0\n",
    "lambda_4_0 = 0\n",
    "lambda_5_0 = 0\n",
    "#Por el contexto se asume que tasa de recuperación por la droga comienza perfecta\n",
    "\n",
    "\n",
    "P0 = [Sh_0,Ih_0,Rh_0,Sv_0,Iv_0,lambda_1_0,lambda_2_0,lambda_3_0,lambda_4_0,lambda_5_0]\n",
    "\n",
    "#Determino los valores que va a seguir y hasa donde, en este caso se hara hasta 100\n",
    "Timestamp = np.linspace(0,10, 50)\n",
    "\n",
    "Sol = odeint(DPdt, P0, Timestamp, full_output = True)\n"
   ]
  },
  {
   "cell_type": "code",
   "execution_count": 33,
   "id": "4a06c2da-5bc6-4999-92d4-db5d337dddf8",
   "metadata": {},
   "outputs": [],
   "source": [
    "Y1=Sol[0]\n"
   ]
  },
  {
   "cell_type": "code",
   "execution_count": 35,
   "id": "bcc723e9-6a39-40cf-b18c-c234ee5f2668",
   "metadata": {
    "tags": []
   },
   "outputs": [
    {
     "data": {
      "text/plain": [
       "[<matplotlib.lines.Line2D at 0x19c6ab1d010>,\n",
       " <matplotlib.lines.Line2D at 0x19c6a195950>,\n",
       " <matplotlib.lines.Line2D at 0x19c6ab1ffd0>,\n",
       " <matplotlib.lines.Line2D at 0x19c6a0f3f50>,\n",
       " <matplotlib.lines.Line2D at 0x19c6ab1ff90>,\n",
       " <matplotlib.lines.Line2D at 0x19c6ab4f710>,\n",
       " <matplotlib.lines.Line2D at 0x19c6a917b90>,\n",
       " <matplotlib.lines.Line2D at 0x19c6ab0fb10>,\n",
       " <matplotlib.lines.Line2D at 0x19c6ab4f310>,\n",
       " <matplotlib.lines.Line2D at 0x19c6ab4d890>]"
      ]
     },
     "execution_count": 35,
     "metadata": {},
     "output_type": "execute_result"
    },
    {
     "data": {
      "image/png": "[encoded data removed]",
      "text/plain": [
       "<Figure size 640x480 with 1 Axes>"
      ]
     },
     "metadata": {},
     "output_type": "display_data"
    }
   ],
   "source": [
    "plt.plot(Timestamp,Y1)"
   ]
  },
  {
   "cell_type": "code",
   "execution_count": null,
   "id": "67f65640-67c5-48ca-bfe8-0195df62468a",
   "metadata": {},
   "outputs": [],
   "source": []
  },
  {
   "cell_type": "code",
   "execution_count": null,
   "id": "2c091eb8-55fc-4b7c-bd6f-074c058ba4df",
   "metadata": {},
   "outputs": [],
   "source": []
  }
 ],
 "metadata": {
  "kernelspec": {
   "display_name": "Python 3 (ipykernel)",
   "language": "python",
   "name": "python3"
  },
  "language_info": {
   "codemirror_mode": {
    "name": "ipython",
    "version": 3
   },
   "file_extension": ".py",
   "mimetype": "text/x-python",
   "name": "python",
   "nbconvert_exporter": "python",
   "pygments_lexer": "ipython3",
   "version": "3.11.7"
  }
 },
 "nbformat": 4,
 "nbformat_minor": 5
}
