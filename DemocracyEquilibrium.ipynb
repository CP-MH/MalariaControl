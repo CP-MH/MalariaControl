{
  "nbformat": 4,
  "nbformat_minor": 0,
  "metadata": {
    "colab": {
      "provenance": [],
      "include_colab_link": true
    },
    "kernelspec": {
      "name": "python3",
      "display_name": "Python 3"
    },
    "language_info": {
      "name": "python"
    }
  },
  "cells": [
    {
      "cell_type": "markdown",
      "metadata": {
        "id": "view-in-github",
        "colab_type": "text"
      },
      "source": [
        "<a href=\"https://colab.research.google.com/github/CP-MH/MalariaControl/blob/main/DemocracyEquilibrium.ipynb\" target=\"_parent\"><img src=\"https://colab.research.google.com/assets/colab-badge.svg\" alt=\"Open In Colab\"/></a>"
      ]
    },
    {
      "cell_type": "code",
      "execution_count": null,
      "metadata": {
        "colab": {
          "base_uri": "https://localhost:8080/"
        },
        "id": "P6-A_fycjTkC",
        "outputId": "9afddaaf-662f-4dbc-dd19-de3fbecde9c8"
      },
      "outputs": [
        {
          "output_type": "stream",
          "name": "stdout",
          "text": [
            "\u001b[2K     \u001b[90m━━━━━━━━━━━━━━━━━━━━━━━━━━━━━━━━━━━━━━━━\u001b[0m \u001b[32m65.6/65.6 kB\u001b[0m \u001b[31m1.5 MB/s\u001b[0m eta \u001b[36m0:00:00\u001b[0m\n",
            "\u001b[2K     \u001b[90m━━━━━━━━━━━━━━━━━━━━━━━━━━━━━━━━━━━━━━━━\u001b[0m \u001b[32m1.6/1.6 MB\u001b[0m \u001b[31m21.1 MB/s\u001b[0m eta \u001b[36m0:00:00\u001b[0m\n",
            "\u001b[2K     \u001b[90m━━━━━━━━━━━━━━━━━━━━━━━━━━━━━━━━━━━━━━━━\u001b[0m \u001b[32m66.4/66.4 kB\u001b[0m \u001b[31m4.2 MB/s\u001b[0m eta \u001b[36m0:00:00\u001b[0m\n",
            "\u001b[2K     \u001b[90m━━━━━━━━━━━━━━━━━━━━━━━━━━━━━━━━━━━━━━━━\u001b[0m \u001b[32m1.2/1.2 MB\u001b[0m \u001b[31m20.5 MB/s\u001b[0m eta \u001b[36m0:00:00\u001b[0m\n",
            "\u001b[2K     \u001b[90m━━━━━━━━━━━━━━━━━━━━━━━━━━━━━━━━━━━━━━━━\u001b[0m \u001b[32m105.9/105.9 kB\u001b[0m \u001b[31m4.2 MB/s\u001b[0m eta \u001b[36m0:00:00\u001b[0m\n",
            "\u001b[2K     \u001b[90m━━━━━━━━━━━━━━━━━━━━━━━━━━━━━━━━━━━━━━━━\u001b[0m \u001b[32m71.9/71.9 kB\u001b[0m \u001b[31m1.1 MB/s\u001b[0m eta \u001b[36m0:00:00\u001b[0m\n",
            "\u001b[2K     \u001b[90m━━━━━━━━━━━━━━━━━━━━━━━━━━━━━━━━━━━━━━━━\u001b[0m \u001b[32m60.8/60.8 kB\u001b[0m \u001b[31m3.0 MB/s\u001b[0m eta \u001b[36m0:00:00\u001b[0m\n",
            "\u001b[2K     \u001b[90m━━━━━━━━━━━━━━━━━━━━━━━━━━━━━━━━━━━━━━━━\u001b[0m \u001b[32m130.2/130.2 kB\u001b[0m \u001b[31m1.2 MB/s\u001b[0m eta \u001b[36m0:00:00\u001b[0m\n",
            "\u001b[2K     \u001b[90m━━━━━━━━━━━━━━━━━━━━━━━━━━━━━━━━━━━━━━━━\u001b[0m \u001b[32m83.0/83.0 kB\u001b[0m \u001b[31m3.0 MB/s\u001b[0m eta \u001b[36m0:00:00\u001b[0m\n",
            "\u001b[2K     \u001b[90m━━━━━━━━━━━━━━━━━━━━━━━━━━━━━━━━━━━━━━━━\u001b[0m \u001b[32m1.3/1.3 MB\u001b[0m \u001b[31m30.2 MB/s\u001b[0m eta \u001b[36m0:00:00\u001b[0m\n",
            "\u001b[2K     \u001b[90m━━━━━━━━━━━━━━━━━━━━━━━━━━━━━━━━━━━━━━━━\u001b[0m \u001b[32m2.7/2.7 MB\u001b[0m \u001b[31m42.3 MB/s\u001b[0m eta \u001b[36m0:00:00\u001b[0m\n",
            "\u001b[2K     \u001b[90m━━━━━━━━━━━━━━━━━━━━━━━━━━━━━━━━━━━━━━━━\u001b[0m \u001b[32m6.1/6.1 MB\u001b[0m \u001b[31m30.4 MB/s\u001b[0m eta \u001b[36m0:00:00\u001b[0m\n",
            "\u001b[2K     \u001b[90m━━━━━━━━━━━━━━━━━━━━━━━━━━━━━━━━━━━━━━━━\u001b[0m \u001b[32m107.9/107.9 kB\u001b[0m \u001b[31m7.0 MB/s\u001b[0m eta \u001b[36m0:00:00\u001b[0m\n",
            "\u001b[2K     \u001b[90m━━━━━━━━━━━━━━━━━━━━━━━━━━━━━━━━━━━━━━━━\u001b[0m \u001b[32m250.8/250.8 kB\u001b[0m \u001b[31m10.0 MB/s\u001b[0m eta \u001b[36m0:00:00\u001b[0m\n",
            "\u001b[2K     \u001b[90m━━━━━━━━━━━━━━━━━━━━━━━━━━━━━━━━━━━━━━━━\u001b[0m \u001b[32m58.3/58.3 kB\u001b[0m \u001b[31m3.2 MB/s\u001b[0m eta \u001b[36m0:00:00\u001b[0m\n",
            "\u001b[2K     \u001b[90m━━━━━━━━━━━━━━━━━━━━━━━━━━━━━━━━━━━━━━━━\u001b[0m \u001b[32m1.6/1.6 MB\u001b[0m \u001b[31m26.6 MB/s\u001b[0m eta \u001b[36m0:00:00\u001b[0m\n",
            "\u001b[2K     \u001b[90m━━━━━━━━━━━━━━━━━━━━━━━━━━━━━━━━━━━━━━━━\u001b[0m \u001b[32m133.5/133.5 kB\u001b[0m \u001b[31m4.5 MB/s\u001b[0m eta \u001b[36m0:00:00\u001b[0m\n",
            "\u001b[?25h"
          ]
        }
      ],
      "source": [
        "# SKIP THIS CELL unless running in colab\n",
        "\n",
        "%pip install --quiet mesa\n",
        "# The exclamation points tell jupyter to do the command via the command line"
      ]
    },
    {
      "cell_type": "code",
      "source": [
        "import mesa\n",
        "\n",
        "# Data visualization tools.\n",
        "import seaborn as sns\n",
        "\n",
        "# Has multi-dimensional arrays and matrices. Has a large collection of\n",
        "# mathematical functions to operate on these arrays.\n",
        "import numpy as np\n",
        "\n",
        "# Data manipulation and analysis.\n",
        "import pandas as pd\n",
        "\n",
        "#Maneja la generación de aleatoriedad\n",
        "from scipy.stats import uniform"
      ],
      "metadata": {
        "id": "miQTqW9AjiYk"
      },
      "execution_count": null,
      "outputs": []
    },
    {
      "cell_type": "code",
      "source": [
        "#El agente, tiene atributos numero de identificación, orientación y voto\n",
        "class VoterAgent(mesa.Agent):\n",
        "    \"\"\"An agent with fixed initial wealth.\"\"\"\n",
        "\n",
        "    def __init__(self, unique_id, model, Orientation):\n",
        "        # Pass the parameters to the parent class.\n",
        "        super().__init__(unique_id, model)\n",
        "\n",
        "        #Atributos\n",
        "        self.ID = unique_id\n",
        "        self.orientation = Orientation\n",
        "        self.transparencia = transparencia #entre 0 y 1\n",
        "\n",
        "\n",
        "\n",
        "    def step(self):\n",
        "        # Aca se decide que se hace en cada tick, lo de abajo es un ejemplo\n",
        "        print(f\"Hi, I am an agent, you can call me {str(self.unique_id)}.\")\n",
        "\n",
        "\n",
        "\n",
        "#El modelo, tiene parametros:\n",
        "#phi(parametro de la popularidad),\n",
        "#mu(porcentaje de apoyo idologico a L, entre 0 y 1),\n",
        "#h(parametro de idologia),\n",
        "#R(La ganancia esperada por ganar la elección)\n",
        "#(phi<=3h es una restricción de los parametros)\n",
        "#tiene atributos cuales son las estrategias optimas y si deciden pelear o\n",
        "#democracia como vector de dos dimensiones\n",
        "class DemocracyModel(mesa.Model):\n",
        "    def __init__(self, N, phi,mu,h,R):\n",
        "        #Atributos\n",
        "        super().__init__()\n",
        "        #Numero de agentes\n",
        "        self.num_agents = N\n",
        "        #Popularidad general del partido L\n",
        "        self.ExpectedPopularityL = -1\n",
        "        #Parametro para generar tendencia de la orientación politica\n",
        "        self.ExpectedOrientationP = mu\n",
        "        #Parametro de la densidad de la orientación politica\n",
        "        self.ExpectedOrientationV= h\n",
        "        #Popularidad resultado ya de una variable aleatoria\n",
        "        self.RandomPopularity = -1\n",
        "        #Ganancias que espera el partida al ganar la elección\n",
        "        self.GrossRevenue = R\n",
        "        #Estrategia de redistribución del partido L\n",
        "        self.Yl = -1\n",
        "        #Estrategia de redistribución del partido C\n",
        "        self.Yc = -1\n",
        "        #Probabilidad de ganar del partido L\n",
        "        self.LWinningProbability = -1\n",
        "        #Utilidad esperada de seguir en democracia para L y C\n",
        "        self.U_D_L = -1\n",
        "        self.U_D_C = -1\n",
        "        # El schedule\n",
        "        self.schedule = mesa.time.RandomActivation(self)\n",
        "\n",
        "        # Create agents\n",
        "        for i in range(self.num_agents):\n",
        "          #crear la orientación\n",
        "            o = np.random.uniform(-(mu/h),(1-mu)/h,1)\n",
        "            orientation=o[0]\n",
        "            a = VoterAgent(i, self, orientation)\n",
        "            # Add the agent to the scheduler\n",
        "            self.schedule.add(a)\n",
        "\n",
        "    def Strategies(self, phi, mu, h):\n",
        "      P = np.random.uniform(-(1/(2*phi)),1/(2*phi),1 )\n",
        "      self.ExpectedPopularityL = P[0]\n",
        "      self.Yl = self.GrossRevenue - (1/(2*phi)) - ((mu-(1/2))/(3*h))\n",
        "      self.Yc = self.GrossRevenue - (1/(2*phi)) + ((mu-(1/2))/(3*h))\n",
        "      self.LWinningProbability = 1/2 + (phi*(mu-(1/2)))/(3*h)\n",
        "\n",
        "\n",
        "\n",
        "\n",
        "    def step(self):\n",
        "        \"\"\"Advance the model by one step.\"\"\"\n",
        "\n",
        "        # The model's step will go here for now this will call the step method\n",
        "        # of each agent and print the agent's unique_id\n",
        "        self.schedule.step()\n",
        "\n",
        "\n",
        "\n",
        "    def votacion():\n",
        "      for i in range(self.num_)\n"
      ],
      "metadata": {
        "id": "fCDsaeUJtOYf"
      },
      "execution_count": null,
      "outputs": []
    }
  ]
}